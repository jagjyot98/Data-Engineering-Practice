{
 "cells": [
  {
   "cell_type": "markdown",
   "id": "c1a968e3",
   "metadata": {},
   "source": [
    "#### Starting PostgreSQL with Python\n",
    "1. Connecting postgreSQL with python\n",
    "2. Creating database in postgre SQL using python\n",
    "3. Creating table in postgre SQL using python\n",
    "4. Adding data to the table using python\n",
    "5. Overall managing connection and cursor with postgre sql using python"
   ]
  },
  {
   "cell_type": "code",
   "execution_count": 1,
   "id": "4e13645c",
   "metadata": {},
   "outputs": [
    {
     "name": "stdout",
     "output_type": "stream",
     "text": [
      "Collecting psycopg2\n",
      "  Downloading psycopg2-2.9.10-cp312-cp312-win_amd64.whl.metadata (5.0 kB)\n",
      "Downloading psycopg2-2.9.10-cp312-cp312-win_amd64.whl (1.2 MB)\n",
      "   ---------------------------------------- 0.0/1.2 MB ? eta -:--:--\n",
      "   ---------------------------------------- 0.0/1.2 MB ? eta -:--:--\n",
      "   -- ------------------------------------- 0.1/1.2 MB 1.1 MB/s eta 0:00:02\n",
      "   ------- -------------------------------- 0.2/1.2 MB 2.1 MB/s eta 0:00:01\n",
      "   -------------- ------------------------- 0.4/1.2 MB 2.6 MB/s eta 0:00:01\n",
      "   ---------------------- ----------------- 0.7/1.2 MB 3.2 MB/s eta 0:00:01\n",
      "   ------------------------------ --------- 0.9/1.2 MB 3.7 MB/s eta 0:00:01\n",
      "   ------------------------------------ --- 1.1/1.2 MB 3.8 MB/s eta 0:00:01\n",
      "   ---------------------------------------- 1.2/1.2 MB 3.5 MB/s eta 0:00:00\n",
      "Installing collected packages: psycopg2\n",
      "Successfully installed psycopg2-2.9.10\n"
     ]
    },
    {
     "name": "stderr",
     "output_type": "stream",
     "text": [
      "\n",
      "[notice] A new release of pip is available: 24.0 -> 25.1.1\n",
      "[notice] To update, run: python.exe -m pip install --upgrade pip\n"
     ]
    }
   ],
   "source": [
    "!pip install psycopg2"
   ]
  },
  {
   "cell_type": "markdown",
   "id": "0c6c0f56",
   "metadata": {},
   "source": [
    "Import the library"
   ]
  },
  {
   "cell_type": "code",
   "execution_count": 2,
   "id": "d0113b1d",
   "metadata": {},
   "outputs": [],
   "source": [
    "import psycopg2"
   ]
  },
  {
   "cell_type": "markdown",
   "id": "3263fa4c",
   "metadata": {},
   "source": [
    "Create a connection to the database "
   ]
  },
  {
   "cell_type": "code",
   "execution_count": 9,
   "id": "ec349c86",
   "metadata": {},
   "outputs": [],
   "source": [
    "try:\n",
    "    con=psycopg2.connect(\n",
    "        host=\"127.0.0.1\",\n",
    "        database=\"postgres\",\n",
    "        user=\"postgres\",\n",
    "        password=\"root\"\n",
    "    )\n",
    "except psycopg2.Error as e:\n",
    "    print(\"Unable to connect to the database\")\n",
    "    print(e)\n",
    "    "
   ]
  },
  {
   "cell_type": "markdown",
   "id": "d61af64e",
   "metadata": {},
   "source": [
    "use the connection to get the cursor"
   ]
  },
  {
   "cell_type": "code",
   "execution_count": 10,
   "id": "519ee8f5",
   "metadata": {},
   "outputs": [],
   "source": [
    "try:\n",
    "    cur=con.cursor()\n",
    "except psycopg2.Error as e:\n",
    "    print(\"Unable to create a cursor\")\n",
    "    print(e)"
   ]
  },
  {
   "cell_type": "markdown",
   "id": "06736ea7",
   "metadata": {},
   "source": [
    "Set Automatic Commit to be true. No need to call commit after every command."
   ]
  },
  {
   "cell_type": "code",
   "execution_count": 12,
   "id": "2fe1f6d7",
   "metadata": {},
   "outputs": [],
   "source": [
    "con.set_session(autocommit=True)"
   ]
  },
  {
   "cell_type": "markdown",
   "id": "f422f52c",
   "metadata": {},
   "source": [
    "Create a database "
   ]
  },
  {
   "cell_type": "code",
   "execution_count": 14,
   "id": "8ea253fa",
   "metadata": {},
   "outputs": [
    {
     "name": "stdout",
     "output_type": "stream",
     "text": [
      "Unable to create the database\n",
      "database \"myfirstdb\" already exists\n",
      "\n"
     ]
    }
   ],
   "source": [
    "try:\n",
    "    cur.execute(\"CREATE DATABASE myfirstdb\")\n",
    "except psycopg2.Error as e:\n",
    "    print(\"Unable to create the database\")\n",
    "    print(e)"
   ]
  },
  {
   "cell_type": "markdown",
   "id": "d1ca92d9",
   "metadata": {},
   "source": [
    "Close previous connection and the cursor and reconnect to our new database with the cursor."
   ]
  },
  {
   "cell_type": "code",
   "execution_count": 15,
   "id": "1a6e942d",
   "metadata": {},
   "outputs": [],
   "source": [
    "\n",
    "\n",
    "# Close the cursor and connection to the original database\n",
    "try:\n",
    "    cur.close()\n",
    "except psycopg2.Error as e:\n",
    "    print(\"Unable to close the cursor\")\n",
    "    print(e)\n",
    "\n",
    "try:\n",
    "    con.close()\n",
    "except psycopg2.Error as e:\n",
    "    print(\"Unable to close the connection\")\n",
    "    print(e)\n",
    "\n",
    "\n",
    "# Now we will connect to the newly created database\n",
    "try:\n",
    "    con=psycopg2.connect(\n",
    "        host=\"127.0.0.1\",\n",
    "        database=\"myfirstdb\",\n",
    "        user=\"postgres\",\n",
    "        password=\"root\"\n",
    "    )\n",
    "except psycopg2.Error as e:\n",
    "    print(\"Unable to connect to the new database\")\n",
    "    print(e)\n",
    "\n",
    "\n",
    "# Create a cursor for the new database\n",
    "try:\n",
    "    cur=con.cursor()\n",
    "except psycopg2.Error as e:\n",
    "    print(\"Unable to create a cursor for the new database\")\n",
    "    print(e)\n",
    "\n",
    "\n",
    "# Set autocommit mode for the new database connection\n",
    "con.set_session(autocommit=True)"
   ]
  },
  {
   "cell_type": "markdown",
   "id": "b4c63e1f",
   "metadata": {},
   "source": [
    "Create a table for students with the fololowing columns:\n",
    "id, name, number, age, gender, subject, marks"
   ]
  },
  {
   "cell_type": "code",
   "execution_count": 17,
   "id": "e71e61db",
   "metadata": {},
   "outputs": [],
   "source": [
    "try:\n",
    "    cur.execute(\"CREATE TABLE IF NOT EXISTS students (student_id int, name varchar(50), age int, grade varchar(10), subject varchar(50), marks int);\")\n",
    "except psycopg2.Error as e:\n",
    "    print(\"Unable to create the table in the new database\")\n",
    "    print(e)"
   ]
  },
  {
   "cell_type": "markdown",
   "id": "e78b59fd",
   "metadata": {},
   "source": [
    "insert 2 rows into the table "
   ]
  },
  {
   "cell_type": "code",
   "execution_count": 18,
   "id": "801c5ff6",
   "metadata": {},
   "outputs": [],
   "source": [
    "try:\n",
    "    cur.execute(\"INSERT INTO students (student_id, name, age, grade, subject, marks) VALUES (%s, %s, %s, %s, %s, %s)\",(1, \"ABC\", 23, \"Male\", \"Python\", 85))\n",
    "except psycopg2.Error as e:\n",
    "    print(\"Unable to insert data into the table\")\n",
    "    print(e)\n",
    "\n",
    "try:\n",
    "    cur.execute(\"INSERT INTO students (student_id, name, age, grade, subject, marks) VALUES (%s, %s, %s, %s, %s, %s)\",(2, \"DEF\", 22, \"Female\", \"Python\", 86))\n",
    "except psycopg2.Error as e:\n",
    "    print(\"Unable to insert data into the table\")\n",
    "    print(e)"
   ]
  },
  {
   "cell_type": "markdown",
   "id": "d22517bb",
   "metadata": {},
   "source": [
    "Fetch data from table "
   ]
  },
  {
   "cell_type": "code",
   "execution_count": 19,
   "id": "d2a64bc1",
   "metadata": {},
   "outputs": [
    {
     "name": "stdout",
     "output_type": "stream",
     "text": [
      "(1, 'ABC', 23, 'Male', 'Python', 85)\n",
      "(2, 'DEF', 22, 'Female', 'Python', 86)\n"
     ]
    }
   ],
   "source": [
    "try:\n",
    "    cur.execute(\"SELECT * FROM students;\")\n",
    "except psycopg2.Error as e:\n",
    "    print(\"Unable to fetch data from the table\")\n",
    "    print(e)\n",
    "\n",
    "rows= cur.fetchone()\n",
    "while rows is not None:\n",
    "    print(rows)\n",
    "    rows = cur.fetchone()"
   ]
  },
  {
   "cell_type": "markdown",
   "id": "998a51b9",
   "metadata": {},
   "source": [
    "Closing our cursor and database connection"
   ]
  },
  {
   "cell_type": "code",
   "execution_count": 20,
   "id": "738eedb3",
   "metadata": {},
   "outputs": [],
   "source": [
    "cur.close()\n",
    "con.close()"
   ]
  }
 ],
 "metadata": {
  "kernelspec": {
   "display_name": "Python 3",
   "language": "python",
   "name": "python3"
  },
  "language_info": {
   "codemirror_mode": {
    "name": "ipython",
    "version": 3
   },
   "file_extension": ".py",
   "mimetype": "text/x-python",
   "name": "python",
   "nbconvert_exporter": "python",
   "pygments_lexer": "ipython3",
   "version": "3.12.2"
  }
 },
 "nbformat": 4,
 "nbformat_minor": 5
}
